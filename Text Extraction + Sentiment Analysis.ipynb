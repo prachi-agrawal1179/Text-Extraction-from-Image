{
 "cells": [
  {
   "cell_type": "code",
   "execution_count": 67,
   "metadata": {},
   "outputs": [],
   "source": [
    "from matplotlib import pyplot as plt\n",
    "from PIL import Image\n",
    "import pytesseract\n",
    "import argparse\n",
    "import cv2\n",
    "import os\n",
    "img = cv2.imread(r'C:\\Users\\mypc\\Downloads\\755275_1304907_bundle_archive\\Love is Love\\Dataset\\Test107.jpg',0)\n"
   ]
  },
  {
   "cell_type": "code",
   "execution_count": 68,
   "metadata": {},
   "outputs": [
    {
     "name": "stdout",
     "output_type": "stream",
     "text": [
      "14220.png\n"
     ]
    },
    {
     "data": {
      "text/plain": [
       "True"
      ]
     },
     "execution_count": 68,
     "metadata": {},
     "output_type": "execute_result"
    }
   ],
   "source": [
    "filename = \"{}.png\".format(os.getpid())\n",
    "print(filename)\n",
    "\n",
    "cv2.imwrite(filename, img)"
   ]
  },
  {
   "cell_type": "code",
   "execution_count": 69,
   "metadata": {},
   "outputs": [
    {
     "name": "stdout",
     "output_type": "stream",
     "text": [
      "lesbianvenom:\n",
      "\n",
      "lesbianvenom:\n",
      "\n",
      "straighteners aren’t worth ur money i’ve been using one for three\n",
      "weeks and i’m still definitely a lesbian\n",
      "\n",
      "in all my 20 years of living this has been by far my best joke ever\n"
     ]
    }
   ],
   "source": [
    "pytesseract.pytesseract.tesseract_cmd = r\"C:\\Program Files\\Tesseract-OCR\\tesseract\"\n",
    "text = pytesseract.image_to_string(Image.open(filename))\n",
    "print(text)\n",
    "os.remove(filename)"
   ]
  },
  {
   "cell_type": "code",
   "execution_count": 50,
   "metadata": {},
   "outputs": [],
   "source": [
    "def gray(img):\n",
    "    \n",
    "    img = cv2.cvtColor(img, cv2.COLOR_BGR2GRAY)\n",
    "    cv2.imwrite(r\"./preprocess/img_gray.png\",img)\n",
    "    return img\n",
    "\n",
    "# blur\n",
    "def blur(img) :\n",
    "    img_blur = cv2.GaussianBlur(img,(5,5),0)\n",
    "    cv2.imwrite(r\"./preprocess/img_blur.png\",img)    \n",
    "    return img_blur\n",
    "\n",
    "# threshold\n",
    "def threshold(img):\n",
    "    #pixels with value below 100 are turned black (0) and those with higher value are turned white (255)\n",
    "    img = cv2.threshold(img, 100, 255, cv2.THRESH_OTSU | cv2.THRESH_BINARY)[1]    \n",
    "    cv2.imwrite(r\"./preprocess/img_threshold.png\",img)\n",
    "    return img"
   ]
  },
  {
   "cell_type": "code",
   "execution_count": 51,
   "metadata": {},
   "outputs": [],
   "source": [
    "import cv2\n",
    "import pytesseract\n",
    "# read image\n",
    "im= cv2.imread(r'C:\\Users\\mypc\\Downloads\\755275_1304907_bundle_archive\\Love is Love\\Dataset\\Test107.jpg')\n",
    "pytesseract.pytesseract.tesseract_cmd = r\"C:\\Program Files\\Tesseract-OCR\\tesseract\"\n",
    "orig = im.copy()\n",
    "(origH, origW) = im.shape[:2]\n",
    "# configurations\n",
    "config = ('-l eng --oem 1 --psm 3')\n",
    "im_gray = gray(im)\n",
    "im_blur = blur(im_gray)\n",
    "im_thresh = threshold(im_blur)\n",
    "\n",
    "contours, _ = cv2.findContours(im_thresh, cv2.RETR_EXTERNAL, cv2.CHAIN_APPROX_NONE) "
   ]
  },
  {
   "cell_type": "code",
   "execution_count": 52,
   "metadata": {},
   "outputs": [],
   "source": [
    "def contours_text(orig, img, contours):\n",
    "    for cnt in contours: \n",
    "        x, y, w, h = cv2.boundingRect(cnt) \n",
    "\n",
    "        # Drawing a rectangle on copied image \n",
    "        rect = cv2.rectangle(orig, (x, y), (x + w, y + h), (0, 255, 255), 2) \n",
    "        \n",
    "        cv2.imshow('cnt',rect)\n",
    "        cv2.waitKey()\n",
    "\n",
    "        # Cropping the text block for giving input to OCR \n",
    "        cropped = orig[y:y + h, x:x + w] \n",
    "\n",
    "        # Apply OCR on the cropped image \n",
    "        config = ('-l eng --oem 1 --psm 3')\n",
    "        text = pytesseract.image_to_string(cropped, config=config) \n",
    "\n",
    "        print(text)"
   ]
  },
  {
   "cell_type": "code",
   "execution_count": 64,
   "metadata": {},
   "outputs": [
    {
     "name": "stdout",
     "output_type": "stream",
     "text": [
      "lesbianvenom:\n",
      "\n",
      "lesbianvenom:\n",
      "\n",
      "straighteners aren’t worth ur money i’ve been using one for three\n",
      "weeks and i’m still definitely a lesbian\n",
      "\n",
      "in all my 20 years of living this has been by far my best joke ever\n",
      "lesbianvenom:\n",
      "\n",
      "lesbianvenom:\n",
      "\n",
      "straighteners aren’t worth ur money i’ve been using one for three\n",
      "weeks and i’m still definitely a lesbian\n",
      "\n",
      "in all my 20 years of living this has been by far my best joke ever\n",
      "None\n"
     ]
    }
   ],
   "source": [
    "\n",
    "x=str(contours_text(orig, im, contours))\n",
    "print(contours_text(orig, im, contours))"
   ]
  },
  {
   "cell_type": "code",
   "execution_count": 72,
   "metadata": {},
   "outputs": [
    {
     "name": "stdout",
     "output_type": "stream",
     "text": [
      "['lesbianvenom', ':', 'lesbianvenom', ':', 'straighteners', 'aren', '’', 't', 'worth', 'ur', 'money', 'i', '’', 've', 'been', 'using', 'one', 'for', 'three', 'weeks', 'and', 'i', '’', 'm', 'still', 'definitely', 'a', 'lesbian', 'in', 'all', 'my', '20', 'years', 'of', 'living', 'this', 'has', 'been', 'by', 'far', 'my', 'best', 'joke', 'ever']\n"
     ]
    }
   ],
   "source": [
    "import nltk\n",
    "from nltk.tokenize import sent_tokenize\n",
    "from nltk.tokenize import word_tokenize\n",
    "tokenized_word=sent_tokenize(text)\n",
    "tokenized_text=word_tokenize(text)\n",
    "print(tokenized_text)"
   ]
  },
  {
   "cell_type": "code",
   "execution_count": 73,
   "metadata": {},
   "outputs": [
    {
     "name": "stdout",
     "output_type": "stream",
     "text": [
      "<FreqDist with 1 samples and 1 outcomes>\n"
     ]
    }
   ],
   "source": [
    "from nltk.probability import FreqDist\n",
    "fdist = FreqDist(tokenized_word)\n",
    "print(fdist)"
   ]
  },
  {
   "cell_type": "code",
   "execution_count": 74,
   "metadata": {},
   "outputs": [
    {
     "data": {
      "text/plain": [
       "[('lesbianvenom:\\n\\nlesbianvenom:\\n\\nstraighteners aren’t worth ur money i’ve been using one for three\\nweeks and i’m still definitely a lesbian\\n\\nin all my 20 years of living this has been by far my best joke ever',\n",
       "  1)]"
      ]
     },
     "execution_count": 74,
     "metadata": {},
     "output_type": "execute_result"
    }
   ],
   "source": [
    "fdist.most_common(2)"
   ]
  },
  {
   "cell_type": "code",
   "execution_count": 75,
   "metadata": {},
   "outputs": [
    {
     "data": {
      "image/png": "[encoded data removed]",
      "text/plain": [
       "<Figure size 432x288 with 1 Axes>"
      ]
     },
     "metadata": {
      "needs_background": "light"
     },
     "output_type": "display_data"
    }
   ],
   "source": [
    "import matplotlib.pyplot as plt\n",
    "fdist.plot(30,cumulative=False)\n",
    "plt.show()"
   ]
  },
  {
   "cell_type": "code",
   "execution_count": 76,
   "metadata": {},
   "outputs": [
    {
     "name": "stdout",
     "output_type": "stream",
     "text": [
      "{'themselves', \"aren't\", 'wouldn', 'above', 'other', 'be', 'between', 'some', 'had', 'a', 'do', 're', 'he', 'which', 'out', 'under', 'just', 'from', 'were', 'having', 'himself', 'they', 'here', 'itself', 'for', 'very', 've', 'after', \"it's\", 'before', 'hadn', 'was', 'not', 'am', 'with', 'because', 'his', 'should', \"mustn't\", 'how', 'further', 'all', \"shan't\", 'in', \"she's\", 'any', 'each', 'again', 'our', 'that', 'why', 'this', 'is', 'same', \"you'd\", 'than', 't', \"mightn't\", \"you've\", 'we', 'o', 'doing', \"shouldn't\", 'your', 'both', 'don', 'been', 'i', 'about', \"wasn't\", 'so', \"needn't\", 'weren', 'through', 'until', 'aren', 'ain', 'didn', 'my', 'over', 'then', 'those', 'won', 'or', 'them', 'herself', 'on', 'of', 'needn', \"won't\", 'her', 'ours', 'you', 'too', \"wouldn't\", 'will', \"didn't\", 'now', 'an', 'as', 'shan', \"doesn't\", 'm', 'while', 'yours', 'she', 'once', 'ourselves', \"you'll\", 'where', \"haven't\", 'isn', 'to', 'mightn', 'does', 'their', 'by', 'such', 'couldn', 'theirs', \"you're\", 'him', 'can', 'haven', 'y', 'off', 'when', 'and', 'mustn', \"should've\", 'shouldn', \"couldn't\", 'during', 'hers', \"that'll\", 'ma', 'are', 's', 'these', 'll', 'its', \"hadn't\", 'below', \"don't\", 'only', 'down', 'yourself', 'me', 'wasn', 'more', 'into', 'doesn', 'have', 'did', 'at', \"weren't\", 'few', \"isn't\", 'the', 'no', 'there', 'but', 'against', 'own', 'being', 'hasn', 'what', 'who', 'it', \"hasn't\", 'nor', 'myself', 'd', 'if', 'yourselves', 'whom', 'most', 'has', 'up'}\n"
     ]
    }
   ],
   "source": [
    "from nltk.corpus import stopwords\n",
    "stop_words=set(stopwords.words(\"english\"))\n",
    "print(stop_words)"
   ]
  },
  {
   "cell_type": "code",
   "execution_count": 79,
   "metadata": {},
   "outputs": [
    {
     "name": "stdout",
     "output_type": "stream",
     "text": [
      "Tokenized Sentence: ['lesbianvenom', ':', 'lesbianvenom', ':', 'straighteners', 'aren', '’', 't', 'worth', 'ur', 'money', 'i', '’', 've', 'been', 'using', 'one', 'for', 'three', 'weeks', 'and', 'i', '’', 'm', 'still', 'definitely', 'a', 'lesbian', 'in', 'all', 'my', '20', 'years', 'of', 'living', 'this', 'has', 'been', 'by', 'far', 'my', 'best', 'joke', 'ever']\n",
      "Filterd Sentence: ['lesbianvenom', ':', 'lesbianvenom', ':', 'straighteners', '’', 'worth', 'ur', 'money', '’', 'using', 'one', 'three', 'weeks', '’', 'still', 'definitely', 'lesbian', '20', 'years', 'living', 'far', 'best', 'joke', 'ever']\n"
     ]
    }
   ],
   "source": [
    "filtered_sent=[]\n",
    "for w in tokenized_text:\n",
    "    if w not in stop_words:\n",
    "        filtered_sent.append(w)\n",
    "print(\"Tokenized Sentence:\",tokenized_text)\n",
    "print(\"Filterd Sentence:\",filtered_sent)"
   ]
  },
  {
   "cell_type": "code",
   "execution_count": 80,
   "metadata": {},
   "outputs": [
    {
     "name": "stdout",
     "output_type": "stream",
     "text": [
      "Filtered Sentence: ['lesbianvenom', ':', 'lesbianvenom', ':', 'straighteners', '’', 'worth', 'ur', 'money', '’', 'using', 'one', 'three', 'weeks', '’', 'still', 'definitely', 'lesbian', '20', 'years', 'living', 'far', 'best', 'joke', 'ever']\n",
      "Stemmed Sentence: ['lesbianvenom', ':', 'lesbianvenom', ':', 'straighten', '’', 'worth', 'ur', 'money', '’', 'use', 'one', 'three', 'week', '’', 'still', 'definit', 'lesbian', '20', 'year', 'live', 'far', 'best', 'joke', 'ever']\n"
     ]
    }
   ],
   "source": [
    "from nltk.stem import PorterStemmer\n",
    "from nltk.tokenize import sent_tokenize, word_tokenize\n",
    "\n",
    "ps = PorterStemmer()\n",
    "\n",
    "stemmed_words=[]\n",
    "for w in filtered_sent:\n",
    "    stemmed_words.append(ps.stem(w))\n",
    "\n",
    "print(\"Filtered Sentence:\",filtered_sent)\n",
    "print(\"Stemmed Sentence:\",stemmed_words)"
   ]
  },
  {
   "cell_type": "code",
   "execution_count": 81,
   "metadata": {},
   "outputs": [
    {
     "name": "stdout",
     "output_type": "stream",
     "text": [
      "Lemmatized Word: fly\n",
      "Stemmed Word: fli\n"
     ]
    }
   ],
   "source": [
    "from nltk.stem.wordnet import WordNetLemmatizer\n",
    "lem = WordNetLemmatizer()\n",
    "\n",
    "from nltk.stem.porter import PorterStemmer\n",
    "stem = PorterStemmer()\n",
    "\n",
    "word = \"flying\"\n",
    "print(\"Lemmatized Word:\",lem.lemmatize(word,\"v\"))\n",
    "print(\"Stemmed Word:\",stem.stem(word))"
   ]
  },
  {
   "cell_type": "code",
   "execution_count": 82,
   "metadata": {},
   "outputs": [
    {
     "name": "stdout",
     "output_type": "stream",
     "text": [
      "['lesbianvenom', ':', 'lesbianvenom', ':', 'straighteners', 'aren', '’', 't', 'worth', 'ur', 'money', 'i', '’', 've', 'been', 'using', 'one', 'for', 'three', 'weeks', 'and', 'i', '’', 'm', 'still', 'definitely', 'a', 'lesbian', 'in', 'all', 'my', '20', 'years', 'of', 'living', 'this', 'has', 'been', 'by', 'far', 'my', 'best', 'joke', 'ever']\n"
     ]
    }
   ],
   "source": [
    "tokens=nltk.word_tokenize(text)\n",
    "print(tokens)"
   ]
  },
  {
   "cell_type": "code",
   "execution_count": 83,
   "metadata": {},
   "outputs": [
    {
     "data": {
      "text/plain": [
       "[('lesbianvenom', 'NN'),\n",
       " (':', ':'),\n",
       " ('lesbianvenom', 'NN'),\n",
       " (':', ':'),\n",
       " ('straighteners', 'NNS'),\n",
       " ('aren', 'VBP'),\n",
       " ('’', 'JJ'),\n",
       " ('t', 'NN'),\n",
       " ('worth', 'NN'),\n",
       " ('ur', 'JJ'),\n",
       " ('money', 'NN'),\n",
       " ('i', 'NN'),\n",
       " ('’', 'VBP'),\n",
       " ('ve', 'NN'),\n",
       " ('been', 'VBN'),\n",
       " ('using', 'VBG'),\n",
       " ('one', 'CD'),\n",
       " ('for', 'IN'),\n",
       " ('three', 'CD'),\n",
       " ('weeks', 'NNS'),\n",
       " ('and', 'CC'),\n",
       " ('i', 'JJ'),\n",
       " ('’', 'NNP'),\n",
       " ('m', 'NN'),\n",
       " ('still', 'RB'),\n",
       " ('definitely', 'RB'),\n",
       " ('a', 'DT'),\n",
       " ('lesbian', 'JJ'),\n",
       " ('in', 'IN'),\n",
       " ('all', 'DT'),\n",
       " ('my', 'PRP$'),\n",
       " ('20', 'CD'),\n",
       " ('years', 'NNS'),\n",
       " ('of', 'IN'),\n",
       " ('living', 'NN'),\n",
       " ('this', 'DT'),\n",
       " ('has', 'VBZ'),\n",
       " ('been', 'VBN'),\n",
       " ('by', 'IN'),\n",
       " ('far', 'RB'),\n",
       " ('my', 'PRP$'),\n",
       " ('best', 'JJS'),\n",
       " ('joke', 'NN'),\n",
       " ('ever', 'RB')]"
      ]
     },
     "execution_count": 83,
     "metadata": {},
     "output_type": "execute_result"
    }
   ],
   "source": [
    "nltk.pos_tag(tokens)"
   ]
  },
  {
   "cell_type": "code",
   "execution_count": 84,
   "metadata": {},
   "outputs": [
    {
     "ename": "ValueError",
     "evalue": "Iterable over raw text documents expected, string object received.",
     "output_type": "error",
     "traceback": [
      "\u001b[1;31m---------------------------------------------------------------------------\u001b[0m",
      "\u001b[1;31mValueError\u001b[0m                                Traceback (most recent call last)",
      "\u001b[1;32m<ipython-input-84-b77022d79e48>\u001b[0m in \u001b[0;36m<module>\u001b[1;34m\u001b[0m\n\u001b[0;32m      5\u001b[0m \u001b[0mtoken\u001b[0m \u001b[1;33m=\u001b[0m \u001b[0mRegexpTokenizer\u001b[0m\u001b[1;33m(\u001b[0m\u001b[1;34mr'[a-zA-Z0-9]+'\u001b[0m\u001b[1;33m)\u001b[0m\u001b[1;33m\u001b[0m\u001b[1;33m\u001b[0m\u001b[0m\n\u001b[0;32m      6\u001b[0m \u001b[0mcv\u001b[0m \u001b[1;33m=\u001b[0m \u001b[0mCountVectorizer\u001b[0m\u001b[1;33m(\u001b[0m\u001b[0mlowercase\u001b[0m\u001b[1;33m=\u001b[0m\u001b[1;32mTrue\u001b[0m\u001b[1;33m,\u001b[0m\u001b[0mstop_words\u001b[0m\u001b[1;33m=\u001b[0m\u001b[1;34m'english'\u001b[0m\u001b[1;33m,\u001b[0m\u001b[0mngram_range\u001b[0m \u001b[1;33m=\u001b[0m \u001b[1;33m(\u001b[0m\u001b[1;36m1\u001b[0m\u001b[1;33m,\u001b[0m\u001b[1;36m1\u001b[0m\u001b[1;33m)\u001b[0m\u001b[1;33m,\u001b[0m\u001b[0mtokenizer\u001b[0m \u001b[1;33m=\u001b[0m \u001b[0mtoken\u001b[0m\u001b[1;33m.\u001b[0m\u001b[0mtokenize\u001b[0m\u001b[1;33m)\u001b[0m\u001b[1;33m\u001b[0m\u001b[1;33m\u001b[0m\u001b[0m\n\u001b[1;32m----> 7\u001b[1;33m \u001b[0mtext_counts\u001b[0m\u001b[1;33m=\u001b[0m \u001b[0mcv\u001b[0m\u001b[1;33m.\u001b[0m\u001b[0mfit_transform\u001b[0m\u001b[1;33m(\u001b[0m\u001b[0mtext\u001b[0m\u001b[1;33m)\u001b[0m\u001b[1;33m\u001b[0m\u001b[1;33m\u001b[0m\u001b[0m\n\u001b[0m",
      "\u001b[1;32m~\\Anaconda3\\lib\\site-packages\\sklearn\\feature_extraction\\text.py\u001b[0m in \u001b[0;36mfit_transform\u001b[1;34m(self, raw_documents, y)\u001b[0m\n\u001b[0;32m   1208\u001b[0m         \u001b[1;32mif\u001b[0m \u001b[0misinstance\u001b[0m\u001b[1;33m(\u001b[0m\u001b[0mraw_documents\u001b[0m\u001b[1;33m,\u001b[0m \u001b[0mstr\u001b[0m\u001b[1;33m)\u001b[0m\u001b[1;33m:\u001b[0m\u001b[1;33m\u001b[0m\u001b[1;33m\u001b[0m\u001b[0m\n\u001b[0;32m   1209\u001b[0m             raise ValueError(\n\u001b[1;32m-> 1210\u001b[1;33m                 \u001b[1;34m\"Iterable over raw text documents expected, \"\u001b[0m\u001b[1;33m\u001b[0m\u001b[1;33m\u001b[0m\u001b[0m\n\u001b[0m\u001b[0;32m   1211\u001b[0m                 \"string object received.\")\n\u001b[0;32m   1212\u001b[0m \u001b[1;33m\u001b[0m\u001b[0m\n",
      "\u001b[1;31mValueError\u001b[0m: Iterable over raw text documents expected, string object received."
     ]
    }
   ],
   "source": [
    "import pandas as pd\n",
    "from sklearn.feature_extraction.text import CountVectorizer\n",
    "from nltk.tokenize import RegexpTokenizer\n",
    "#tokenizer to remove unwanted elements from out data like symbols and numbers\n",
    "token = RegexpTokenizer(r'[a-zA-Z0-9]+')\n",
    "cv = CountVectorizer(lowercase=True,stop_words='english',ngram_range = (1,1),tokenizer = token.tokenize)\n",
    "text_counts= cv.fit_transform(text)"
   ]
  },
  {
   "cell_type": "code",
   "execution_count": null,
   "metadata": {},
   "outputs": [],
   "source": []
  }
 ],
 "metadata": {
  "kernelspec": {
   "display_name": "Python 3",
   "language": "python",
   "name": "python3"
  },
  "language_info": {
   "codemirror_mode": {
    "name": "ipython",
    "version": 3
   },
   "file_extension": ".py",
   "mimetype": "text/x-python",
   "name": "python",
   "nbconvert_exporter": "python",
   "pygments_lexer": "ipython3",
   "version": "3.7.6"
  }
 },
 "nbformat": 4,
 "nbformat_minor": 4
}
